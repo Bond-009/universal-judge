{
 "cells": [
  {
   "cell_type": "markdown",
   "source": [
    "# Algemeen\n",
    "\n",
    "De implementatie van een programmeertaal in TESTed bestaat uit twee grote onderdelen:\n",
    "\n",
    "- De configuratieklasse\n",
    "- De sjablonen\n",
    "\n",
    "Aan de hand van de opties en callbacks in de configuratieklasse zal TESTed met de toepasselijke sjablonen de uit te voeren code genereren, waarna het compilatie- en uitvoeringscommando aan de configuratieklasse gevraagd wordt.\n",
    "\n",
    "Het is bij het implementeren van een programmeertaal nuttig om dus volgende korte stappenplan in het achterhoofd te houden:\n",
    "\n",
    "1. TESTed roept enkele functies aan uit de configuratieklasse om opties voor de programmeertaal op te vragen.\n",
    "2. TESTed gebruikt de sjablonen om de juiste code te genereren.\n",
    "3. TESTed roept de compilatie- en uitvoeringsfunctie op van de configuratieklasse, die het commando om te compileren en uit te voeren teruggeeft.\n",
    "\n",
    "Het is ook nuttig om een voorbeeldoefening op te stellen en gebruik te maken van de module `tested.manual`. Hierbij kan een oefening uitgevoerd worden, waarbij TESTed veel logs uitschrijft. Dit is handig om te weten waar dingen verkeerd lopen.\n",
    "\n",
    "# De programmeertaal C\n",
    "\n",
    "In deze paragraaf voegen we de programmeertaal C toe aan TESTed.\n",
    "\n",
    "## Ondersteunde functionaliteit\n",
    "\n",
    "Voor we van start gaan, overlopen we eerst kort wat we willen ondersteunen.\n",
    "Uiteraard is dit zoveel mogelijk, maar vooral op het vlak van gegevenstypes moeten we soms keuzes maken.\n",
    "\n",
    "Welke basistypes gaan we niet ondersteunen?\n",
    "\n",
    "- `sequence` - Arrays zijn een speciaal geval in C: statische arrays kunnen bijvoorbeeld niet als returnwaarde dienen, en ook als functieargument zijn ze niet ideaal. Dynamische arrays nemen de vorm aan van een pointer en een grootte. Doordat dit twee waarden zijn, ondersteunt TESTed dat momenteel niet.\n",
    "- `set` - C heeft geen ingebouwde verzamelingen.\n",
    "- `map` - C heeft geen ingebouwde map of dict. Er zijn wel structs, maar daarvan is het niet mogelijk om at runtime de velden te achterhalen, wat ze niet bruikbaar maakt.\n",
    "\n",
    "Welke geavanceerde types gaan we niet ondersteunen?\n",
    "\n",
    "- `big_int` - C heeft geen ingebouwd type voor getallen van arbitraire grootte.\n",
    "- `fixex_precision`- C heeft geen ingebouwd type voor kommagetallen me arbitraire precisie.\n",
    "- Andere datastructuren, zoals `array` en `list` (voor de redenen van hierboven). Ook `tuple` wordt niet ondersteund, omdat het niet bestaat in C."
   ],
   "metadata": {
    "collapsed": false
   }
  },
  {
   "cell_type": "markdown",
   "source": [
    "## Configuratieklasse\n",
    "\n",
    "De eerste stap in het toevoegen van een programmeertaal is het implementeren van de configuratieklasse.\n",
    "Maak hiervoor een nieuw Python-bestand in `test/langauges/c/config.py`.\n",
    "Hierin moet een klasse komen die `Language` uitbreidt:"
   ],
   "metadata": {
    "collapsed": false,
    "pycharm": {
     "name": "#%% md\n"
    }
   }
  },
  {
   "cell_type": "code",
   "execution_count": null,
   "outputs": [],
   "source": [
    "from tested.languages import Language\n",
    "\n",
    "class CConfig(Language):\n",
    "    pass"
   ],
   "metadata": {
    "collapsed": false,
    "pycharm": {
     "name": "#%% python\n"
    }
   }
  },
  {
   "cell_type": "markdown",
   "source": [
    "De klasse `Language` heeft veel functies, waarvan een deel verplicht te implementeren is.\n",
    "Hieronder overlopen we de functies per onderwerp."
   ],
   "metadata": {
    "collapsed": false
   }
  },
  {
   "cell_type": "markdown",
   "source": [
    "### Programmeertaaleigenschappen\n",
    "\n",
    "Als eerste zijn er enkele functies die weinig uitleg behoeven, en enkele eigenschappen van C implementeren.\n"
   ],
   "metadata": {
    "collapsed": false
   }
  },
  {
   "cell_type": "code",
   "execution_count": null,
   "outputs": [],
   "source": [
    "def file_extension(self) -> str:\n",
    "        return \"c\""
   ],
   "metadata": {
    "collapsed": false,
    "pycharm": {
     "name": "#%% python\n"
    }
   }
  },
  {
   "cell_type": "markdown",
   "source": [
    "De bestandsextensie voor bestanden in C. Er zijn in C ook headers (`.h`), maar daar moeten we geen rekening mee houden.\n"
   ],
   "metadata": {
    "collapsed": false
   }
  },
  {
   "cell_type": "code",
   "execution_count": null,
   "outputs": [],
   "source": [
    "def submission_name(self, plan: Plan) -> str:\n",
    "    return \"submission\""
   ],
   "metadata": {
    "collapsed": false,
    "pycharm": {
     "name": "#%% python\n"
    }
   }
  },
  {
   "cell_type": "markdown",
   "source": [
    "De naam van het bestand met de oplossing van de student."
   ],
   "metadata": {
    "collapsed": false
   }
  },
  {
   "cell_type": "code",
   "source": [
    "def selector_name(self) -> str:\n",
    "    return \"selector\"\n",
    "\n",
    "def needs_selector(self):\n",
    "    return True"
   ],
   "metadata": {
    "collapsed": false,
    "pycharm": {
     "name": "#%% python\n"
    }
   },
   "execution_count": null,
   "outputs": []
  },
  {
   "cell_type": "markdown",
   "source": [
    "De naam van de selector voor batchcompilatie en of dat een selector nodig is (in programmeertalen zoals Python is dat niet nodig)."
   ],
   "metadata": {
    "collapsed": false
   }
  },
  {
   "cell_type": "code",
   "source": [
    "def context_name(self, tab_number: int, context_number: int) -> str:\n",
    "    return f\"context_{tab_number}_{context_number}\""
   ],
   "metadata": {
    "collapsed": false,
    "pycharm": {
     "name": "#%% python\n"
    }
   },
   "execution_count": null,
   "outputs": []
  },
  {
   "cell_type": "markdown",
   "source": [
    "De naam van een bestand voor de context van een specifiek tabblad."
   ],
   "metadata": {
    "collapsed": false
   }
  },
  {
   "cell_type": "code",
   "source": [
    "def conventionalise_function(self, function_name: str) -> str:\n",
    "    return decamelize(function_name)"
   ],
   "metadata": {
    "collapsed": false,
    "pycharm": {
     "name": "#%% python\n"
    }
   },
   "execution_count": null,
   "outputs": []
  },
  {
   "cell_type": "markdown",
   "source": [
    "Deze functie zet namen uit het testplan om naar de namen volgens de gebruiken van de taal. In C kiezen we ervoor om functies in `snake_case` te zetten.\n",
    "\n",
    "### Compileren en uitvoeren van code\n",
    "\n",
    "De eerste twee functies die we gaan bekijken zorgen ervoor dat de code die TESTed gegenereerd heeft, gecompileerd en uitgevoerd kan worden.\n",
    "\n",
    "Als eerste bekijken we het compileren:"
   ],
   "metadata": {
    "collapsed": false
   }
  },
  {
   "cell_type": "code",
   "execution_count": null,
   "outputs": [],
   "source": [
    "def generation_callback(self, files: List[str]) -> CallbackResult:\n",
    "    main_file = files[-1]\n",
    "    exec_file = Path(main_file).stem\n",
    "    result = executable_name(exec_file)\n",
    "    return [\"gcc\", \"-std=c11\", \"-Wall\", \"values.c\", main_file, \"-o\", result], [result]"
   ],
   "metadata": {
    "collapsed": false,
    "pycharm": {
     "name": "#%% python\n"
    }
   }
  },
  {
   "cell_type": "markdown",
   "source": [
    "Zoals de naam doet vermoeden wordt deze functie opgeroepen nadat TESTed de code heeft gegenereerd.\n",
    "Als argument wordt een lijst van bestanden meegegeven die gecompileerd moeten worden tot één uitvoerbaar geheel.\n",
    "Per conventie is het laatste bestand in de lijst het bestand met de `main`-functie.\n",
    "Normaliter worden al deze bestanden in het compilatiecommando opgenomen, maar in het geval van C willen we dat niet: dit voorkomt dubbele definities.\n",
    "\n",
    "Het eerste dat we doen is het bepalen van de naam van de executable.\n",
    "De functie `executable_name` is een hulpfunctie die de juiste extensie aan een string plakt, afhankelijk van het platform (niets op Linux, `exe` op Windows).\n",
    "\n",
    "Als returnwaarde verwacht deze functie een tuple met twee elementen:\n",
    "\n",
    "- Het uit te voeren commando voor de compilatie. In dit geval gebruiken we GCC. Als opties geven we `std=c11` en `Wall` mee. Dit is uiteraard te kiezen per programmeertaal.\n",
    "- Een lijst van resulterende bestanden. Bij C is er maar één bestand: de executable.\n",
    "\n",
    "Een concreet voorbeeld maakt dit duidelijker. Stel dat we een oefening met één context compileren in batchcompilatie:"
   ],
   "metadata": {
    "collapsed": false
   }
  },
  {
   "cell_type": "code",
   "execution_count": null,
   "outputs": [],
   "source": [
    ">>> generation_callback([\"submission.c\", \"context0.c\", \"selector.c\"])\n",
    "([\"gcc\", \"-std=c11\", \"-Wall\", \"selector.c\", \"-o\", \"selector.exe\"], [\"selector.exe\"])"
   ],
   "metadata": {
    "collapsed": false,
    "pycharm": {
     "name": "#%% python\n"
    }
   }
  },
  {
   "cell_type": "markdown",
   "source": [
    "Nu de code gecompileerd is, moeten we hem nog steeds kunnen uitvoeren. Dit gebeurt met een gelijkaardige functie:\n"
   ],
   "metadata": {
    "collapsed": false
   }
  },
  {
   "cell_type": "code",
   "execution_count": null,
   "outputs": [],
   "source": [
    "def execution_command(self,\n",
    "                      cwd: Path,\n",
    "                      file: str,\n",
    "                      arguments: List[str]) -> List[str]:\n",
    "    local_file = cwd / executable_name(Path(file).stem)\n",
    "    return [str(local_file.absolute()), *arguments]"
   ],
   "metadata": {
    "collapsed": false,
    "pycharm": {
     "name": "#%%\n"
    }
   }
  },
  {
   "cell_type": "markdown",
   "source": [
    "Deze functie heeft meer argumenten:\n",
    "\n",
    "- `cwd` of _current working directory_, de map waar de uitvoering zal plaatsvinden.\n",
    "- `file`, het bestand dat uitgevoerd moet worden (het bestand met de `main`-functie). In het geval van C zal dat altijd de executable zijn.\n",
    "- `arguments`, argumenten die aan het programma meegegeven moeten worden.\n",
    "\n",
    "Aangezien C compileert tot een uitvoerbaar bestand, kunnen we dat bestand hier direct oproepen. Het enige dat we doen is opnieuw de juiste extensie toevoegen en een absoluut pad gebruiken. Dat laatst omdat het commando door TESTed met `subprocess` uitgevoerd wordt, en dus het pad naar het uitvoerbaar bestand nodig heeft.\n",
    "\n",
    "De returnwaarde is hier het uit te voeren commando.\n",
    "\n",
    "### Aanpassen van de oplossingscode\n",
    "\n",
    "In TESTed kunnen er meerdere `main`-functies zijn:\n",
    "\n",
    "- De oplossing van de student kan een `main`-functie hebben.\n",
    "- Zowel de contexten als de selector kunnen `main`-functies hebben.\n",
    "\n",
    "C staat slechts één `main`-functie toe.\n",
    "\n",
    "Een ander probleem is dat de selector elke context include (zoals we later zullen zien bij de sjablonen), en elke context ook de oplossing include.\n",
    "\n",
    "Om deze redenen moeten we de code van de oplossing een beetje aanpassen:\n",
    "\n",
    "- We voegen aan `guard` toe, zodat de oplossing eenmalig geladen wordt.\n",
    "- We hernoemen de `main`-functie naar `solution_main` indien die bestaat."
   ],
   "metadata": {
    "collapsed": false,
    "pycharm": {
     "name": "#%% md\n"
    }
   }
  },
  {
   "cell_type": "code",
   "execution_count": null,
   "outputs": [],
   "source": [
    "def solution_callback(self, solution: Path, plan: Plan):\n",
    "    with open(solution, \"r\") as file:\n",
    "        contents = file.read()\n",
    "    with open(solution, \"w\") as file:\n",
    "        header = \"#ifdef INCLUDED\\n#pragma once\\n#endif\\n\\n\"\n",
    "        result = header + contents.replace(\"main\", \"solution_main\")\n",
    "        file.write(result)"
   ],
   "metadata": {
    "collapsed": false,
    "pycharm": {
     "name": "#%% python\n"
    }
   }
  },
  {
   "cell_type": "markdown",
   "source": [
    "### Ondersteunde functionaliteit\n",
    "\n",
    "Bij de voorbereiding hebben we besproken welke functionaliteit we willen ondersteunen. Hier implementeren we dat:"
   ],
   "metadata": {
    "collapsed": false,
    "pycharm": {
     "name": "#%% md\n"
    }
   }
  },
  {
   "cell_type": "code",
   "execution_count": null,
   "outputs": [],
   "source": [
    "\n",
    "def type_support_map(self) -> Mapping[AllTypes, TypeSupport]:\n",
    "    return fallback(super().type_support_map(), {\n",
    "        ant.INT_8:            TypeSupport.SUPPORTED,\n",
    "        ant.U_INT_8:          TypeSupport.SUPPORTED,\n",
    "        ant.INT_16:           TypeSupport.SUPPORTED,\n",
    "        ant.U_INT_16:         TypeSupport.SUPPORTED,\n",
    "        ant.INT_32:           TypeSupport.SUPPORTED,\n",
    "        ant.U_INT_32:         TypeSupport.SUPPORTED,\n",
    "        ant.INT_64:           TypeSupport.SUPPORTED,\n",
    "        ant.U_INT_64:         TypeSupport.SUPPORTED,\n",
    "        ant.SINGLE_PRECISION: TypeSupport.SUPPORTED,\n",
    "        ant.DOUBLE_EXTENDED:  TypeSupport.SUPPORTED,\n",
    "        ant.FIXED_PRECISION:  TypeSupport.UNSUPPORTED,\n",
    "        ast.ARRAY:            TypeSupport.SUPPORTED,\n",
    "        ast.LIST:             TypeSupport.UNSUPPORTED,\n",
    "        ast.TUPLE:            TypeSupport.UNSUPPORTED,\n",
    "        bst.SET:              TypeSupport.UNSUPPORTED,\n",
    "        bot.MAP:              TypeSupport.UNSUPPORTED,\n",
    "    })\n",
    "\n",
    "def supported_constructs(self) -> Constructs:\n",
    "    return (Constructs.MAIN | Constructs.NOTHING | Constructs.FUNCTION_CALL\n",
    "            | Constructs.ASSIGNMENT)"
   ],
   "metadata": {
    "collapsed": false,
    "pycharm": {
     "name": "#%% python\n"
    }
   }
  },
  {
   "cell_type": "markdown",
   "source": [
    "Eerst sommen we de ondersteunde en niet-ondersteunde types op. In de tweede functie geven we aan welke _constructs_ we ondersteunen."
   ],
   "metadata": {
    "collapsed": false
   }
  },
  {
   "cell_type": "markdown",
   "source": [
    "## Sjablonen\n",
    "\n",
    "De tweede stap is het implementeren van de sjablonen. Naast de verplichte sjablonen implementeren we ook een paar bijkomende:\n",
    "\n",
    "- `context.c` - het sjabloon voor de contextcode te genereren\n",
    "- `declaration.mako` - vertaal het type van een variabele naar code\n",
    "- `function.mako`-  vertaalt een functieoproep\n",
    "- `selector.c` - het sjabloon voor de selecter voor batchcompilatie\n",
    "- `statement.c` - vertaalt een statement of expressie naar code\n",
    "- `value.mako` - vertaalt een waarde naar code\n",
    "- `value_arguments.mako` - hulpsjabloon voor `value`\n",
    "- `value_basic.mako`- hulpsjabloon voor `value`\n",
    "\n",
    "### Het contextsjabloon `context.c`\n",
    "\n",
    "Dit is veruit het grootste en ingewikkeldste sjabloon. Het is verantwoordelijk om de testcode te genereren voor één context."
   ],
   "metadata": {
    "collapsed": false
   }
  },
  {
   "cell_type": "code",
   "execution_count": null,
   "outputs": [],
   "source": [
    "<%! from tested.languages.generator import _TestcaseArguments %>\n",
    "<%! from tested.serialisation import Statement, Expression %>\n",
    "<%! from tested.utils import get_args %>\n",
    "\n",
    "#include <stdio.h>"
   ],
   "metadata": {
    "collapsed": false,
    "pycharm": {
     "name": "#%% mako\n"
    }
   }
  },
  {
   "cell_type": "markdown",
   "source": [
    "We importeren de values-module (hierover later meer) en de oplossing van de student.\n",
    "De variabele `submission_name` zal de naam van het oplossingsbestand bevatten."
   ],
   "metadata": {
    "collapsed": false
   }
  },
  {
   "cell_type": "code",
   "execution_count": null,
   "outputs": [],
   "source": [
    "#include \"values.h\"\n",
    "#include \"${submission_name}.c\""
   ],
   "metadata": {
    "collapsed": false,
    "pycharm": {
     "name": "#%% mako\n"
    }
   }
  },
  {
   "cell_type": "markdown",
   "source": [
    "We importeren de programmeertaalspecifieke evaluatoren die nodig zijn.\n",
    "TODO"
   ],
   "metadata": {
    "collapsed": false
   }
  },
  {
   "cell_type": "code",
   "execution_count": null,
   "outputs": [],
   "source": [
    "## Import the language specific evaluators we will need.\n",
    "% for name in evaluator_names:\n",
    "    #include \"${name}.c\"\n",
    "% endfor"
   ],
   "metadata": {
    "collapsed": false,
    "pycharm": {
     "name": "#%% mako\n"
    }
   }
  },
  {
   "cell_type": "markdown",
   "source": [
    "De bestanden waarin de return-channel opgeslagen wordt. We maken ook een bestand aan voor exceptions: C ondersteunt geen exceptions, maar TESTed verwacht toch een bestand."
   ],
   "metadata": {
    "collapsed": false
   }
  },
  {
   "cell_type": "code",
   "execution_count": null,
   "outputs": [],
   "source": [
    "static FILE* value_file = NULL;\n",
    "static FILE* exception_file = NULL;"
   ],
   "metadata": {
    "collapsed": false,
    "pycharm": {
     "name": "#%% mako\n"
    }
   }
  },
  {
   "cell_type": "markdown",
   "source": [
    "Hulpfunctie, opgeroepen tussen de testgevallen om de uitvoer te scheiden."
   ],
   "metadata": {
    "collapsed": false
   }
  },
  {
   "cell_type": "code",
   "execution_count": null,
   "outputs": [],
   "source": [
    "static void write_delimiter() {\n",
    "    fprintf(value_file, \"--${secret_id}-- SEP\");\n",
    "    fprintf(exception_file, \"--${secret_id}-- SEP\");\n",
    "    fprintf(stdout, \"--${secret_id}-- SEP\");\n",
    "    fprintf(stderr, \"--${secret_id}-- SEP\");\n",
    "}"
   ],
   "metadata": {
    "collapsed": false,
    "pycharm": {
     "name": "#%% mako\n"
    }
   }
  },
  {
   "cell_type": "markdown",
   "source": [
    "Dit zijn de standaardfuncties die gebruikt worden om een resultaat te verwerken. Normaal zijn dit deze functies:\n",
    "\n",
    "- `send` - schrijf een waarde naar een bestand.\n",
    "- `send_exception` - schrijf een exception naar een bestand.\n",
    "- `send_specific_value` - schrijf het resultaat van een programmeertaalspecifieke evaluatie naar de return-channel.\n",
    "- `send_specific_exception` - schrijf het resultaat van een programmeertaalspecifieke evaluatie naar de exception-channel.\n",
    "\n",
    "In C wijken we daar lichtjes van af:\n",
    "\n",
    "- De `send` is een macro, geen functie, omdat C geen `any` type heeft.\n",
    "- De `exception`-functies implementeren we niet.\n",
    "\n",
    "De implementatie van deze functies is eenvoudig: meestal wordt gewoon de overeenkomende functie uit de `values` module opgeroepen met het juiste bestand als parameter."
   ],
   "metadata": {
    "collapsed": false
   }
  },
  {
   "cell_type": "code",
   "execution_count": null,
   "outputs": [],
   "source": [
    "#define send(value) write_value(value_file, value)\n",
    "\n",
    "#pragma GCC diagnostic ignored \"-Wunused-function\"\n",
    "static void send_specific_value(EvaluationResult r) {\n",
    "    send_evaluated(value_file, r.result, r.readableExpected, r.readableActual, r.nrOfMessages, r.messages);\n",
    "}\n",
    "#pragma GCC diagnostic pop"
   ],
   "metadata": {
    "collapsed": false,
    "pycharm": {
     "name": "#%% mako\n"
    }
   }
  },
  {
   "cell_type": "markdown",
   "source": [
    "Elke testgeval heeft twee functies evaluatiefuncties nodig:\n",
    "\n",
    "- `v_evaluate_x` - verwerkt de waarde van een testgeval\n",
    "- `e_evaluate_x` - verwerkt de exception van een testgeval\n",
    "\n",
    "De inhoud van deze functies wordt door TESTed gegeven als variabele in `testcase.value_function`. Deze functie bevat ofwel de code om een programmeertaalspecifieke evaluator op te roepen, of bevat de code om een van de standaardfuncties die we hierboven gedefinieerd hebben op te roepen. Merk op dat we deze variabele meegeven aan het functiesjabloon, want deze variabele bevat een functieoproep, geëncodeerd in het serialisatieformaat.\n",
    "\n",
    "Bij C implementeren we de exception-functie opnieuw niet."
   ],
   "metadata": {
    "collapsed": false
   }
  },
  {
   "cell_type": "code",
   "execution_count": null,
   "outputs": [],
   "source": [
    "% for testcase in testcases:\n",
    "    % if testcase.value_function:\n",
    "        #define v_evaluate_${loop.index}(value) <%include file=\"statement.mako\" args=\"statement=testcase.value_function\"/>\n",
    "    % endif\n",
    "% endfor"
   ],
   "metadata": {
    "collapsed": false,
    "pycharm": {
     "name": "#%% mako\n"
    }
   }
  },
  {
   "cell_type": "markdown",
   "source": [
    "Het eigenlijke uitvoeren van de testgevallen gebeurt in de functie hieronder."
   ],
   "metadata": {
    "collapsed": false
   }
  },
  {
   "cell_type": "code",
   "execution_count": null,
   "outputs": [],
   "source": [
    "\n",
    "int ${context_name}() {"
   ],
   "metadata": {
    "collapsed": false,
    "pycharm": {
     "name": "#%% mako\n"
    }
   }
  },
  {
   "cell_type": "markdown",
   "source": [
    "Het eerste dat we doen is de bestanden aanmaken."
   ],
   "metadata": {
    "collapsed": false
   }
  },
  {
   "cell_type": "code",
   "execution_count": null,
   "outputs": [],
   "source": [
    "    value_file = fopen(\"${value_file}\", \"w\");\n",
    "    exception_file = fopen(\"${exception_file}\", \"w\");\n",
    "\n",
    "    ${before}"
   ],
   "metadata": {
    "collapsed": false,
    "pycharm": {
     "name": "#%% mako\n"
    }
   }
  },
  {
   "cell_type": "markdown",
   "source": [
    "Eerst roepen we de `main`-functie van de oplossing op indien het testplan dat vereist.\n",
    "TODO: argumenten"
   ],
   "metadata": {
    "collapsed": false
   }
  },
  {
   "cell_type": "code",
   "execution_count": null,
   "outputs": [],
   "source": [
    "    // Main functions are not support at the moment.\n",
    "    // TODO: arguments?\n",
    "    % if context_testcase.exists:\n",
    "        solution_main();\n",
    "    % endif"
   ],
   "metadata": {
    "collapsed": false,
    "pycharm": {
     "name": "#%% mako\n"
    }
   }
  },
  {
   "cell_type": "markdown",
   "source": [
    "We schrijven de scheidingstekens uit naar de bestanden. We doen dat altijd, ook al kan het zijn dat het vorige testgeval niets uitgevoerd heeft."
   ],
   "metadata": {
    "collapsed": false
   }
  },
  {
   "cell_type": "code",
   "execution_count": null,
   "outputs": [],
   "source": [
    "    write_delimiter();"
   ],
   "metadata": {
    "collapsed": false,
    "pycharm": {
     "name": "#%% mako\n"
    }
   }
  },
  {
   "cell_type": "markdown",
   "source": [
    "Hieronder doen we de eigenlijke testgevallen. Elk testgeval heeft een statement als invoer. Indien dit statement een expression is en we zijn geïnteresseerd in de returnwaarde, moeten we natuurlijk de waarde opvangen. Dat gebeurt met `v_evaluate_${loop.index}(`. De `\\` op het einde duidt aan dat het regeleinde weggelaten mag worden.\n",
    "\n",
    "Na de elke testcase schrijven we ook opnieuw het scheidingsteken uit."
   ],
   "metadata": {
    "collapsed": false
   }
  },
  {
   "cell_type": "code",
   "execution_count": null,
   "outputs": [],
   "source": [
    "    ## Generate the actual tests based on the context.\n",
    "    % for testcase in testcases:\n",
    "        ## If we have a value function, we have an expression.\n",
    "        % if testcase.value_function:\n",
    "            v_evaluate_${loop.index}(\\\n",
    "        % endif\n",
    "        <%include file=\"statement.mako\" args=\"statement=testcase.command\" />\\\n",
    "        % if testcase.value_function:\n",
    "            );\n",
    "        % endif\n",
    "\n",
    "        write_delimiter();\n",
    "\n",
    "    % endfor"
   ],
   "metadata": {
    "collapsed": false,
    "pycharm": {
     "name": "#%% mako\n"
    }
   }
  },
  {
   "cell_type": "markdown",
   "source": [
    "We sluiten ten slotte de bestanden."
   ],
   "metadata": {
    "collapsed": false
   }
  },
  {
   "cell_type": "code",
   "execution_count": null,
   "outputs": [],
   "source": [
    "    ${after}\n",
    "\n",
    "    fclose(value_file);\n",
    "    fclose(exception_file);\n",
    "    return 0;\n",
    "}"
   ],
   "metadata": {
    "collapsed": false,
    "pycharm": {
     "name": "#%% mako\n"
    }
   }
  },
  {
   "cell_type": "markdown",
   "source": [
    "Omdat TESTed zowel contextcompilatie als batchcompilatie ondersteunt, moet elke context een `main`-functie hebben. C laat slechts 1 `main`-functie toe. Indien we in batchcompilatie zitten, zal de selector gebruikt worden, en zal `INCLUDED` op `TRUE` staan. In dat geval voegen we geen `main`-functie toe."
   ],
   "metadata": {
    "collapsed": false
   }
  },
  {
   "cell_type": "code",
   "execution_count": null,
   "outputs": [],
   "source": [
    "#ifndef INCLUDED\n",
    "int main() {\n",
    "    return ${context_name}();\n",
    "}\n",
    "#endif"
   ],
   "metadata": {
    "collapsed": false,
    "pycharm": {
     "name": "#%% mako\n"
    }
   }
  },
  {
   "cell_type": "markdown",
   "source": [
    "## Het selectorsjabloon `selector.c`\n",
    "\n",
    "Dit sjabloon is verantwoordelijk voor het uitvoeren van de juiste context aan de hand van een parameter.\n",
    "\n",
    "De implementatie ervan is redelijk eenvoudig: we includen alle contexten, en definiëren een `main`-functie die het eerste argument vergelijkt met elke naam van de context en dan de juiste uitvoert.\n",
    "\n",
    "Zoals besproken bij het contextsjabloon zetten we ook `INCLUDED` op `true`."
   ],
   "metadata": {
    "collapsed": false
   }
  },
  {
   "cell_type": "code",
   "execution_count": null,
   "outputs": [],
   "source": [
    "#include <string.h>\n",
    "\n",
    "#define INCLUDED true\n",
    "\n",
    "% for c in contexts:\n",
    "    #include \"${c}.c\"\n",
    "% endfor\n",
    "\n",
    "int main(int argc, const char* argv[]) {\n",
    "\n",
    "    const char* name = argv[1];\n",
    "\n",
    "    if (name == NULL) {\n",
    "        fprintf(stderr, \"You must select the context\");\n",
    "        return -2;\n",
    "    }\n",
    "\n",
    "    % for c in contexts:\n",
    "        if (strcmp(\"${c}\", name) == 0) {\n",
    "            return ${c}();\n",
    "        }\n",
    "    % endfor\n",
    "    return -1;\n",
    "}\n",
    "\n",
    "\n"
   ],
   "metadata": {
    "collapsed": false,
    "pycharm": {
     "name": "#%% mako\n"
    }
   }
  }
 ],
 "metadata": {
  "kernelspec": {
   "display_name": "Python 3",
   "language": "python",
   "name": "python3"
  },
  "language_info": {
   "codemirror_mode": {
    "name": "ipython",
    "version": 2
   },
   "file_extension": ".py",
   "mimetype": "text/x-python",
   "name": "python",
   "nbconvert_exporter": "python",
   "pygments_lexer": "ipython2",
   "version": "2.7.6"
  }
 },
 "nbformat": 4,
 "nbformat_minor": 0
}