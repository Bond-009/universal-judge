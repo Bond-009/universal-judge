{
 "cells": [
  {
   "cell_type": "markdown",
   "source": [
    "# Programmeertaal C\n",
    "\n",
    "In deze paragraaf voegen we de programmeertaal C toe aan TESTed.\n",
    "\n",
    "## Ondersteunde functionaliteit\n",
    "\n",
    "Voor we van start gaan, overlopen we eerst kort wat we willen ondersteunen.\n",
    "Uiteraard is dit zoveel mogelijk, maar vooral op het vlak van gegevenstypes moeten we soms keuzes maken.\n",
    "\n",
    "Welke basistypes gaan we niet ondersteunen?\n",
    "\n",
    "- `sequence` - Arrays zijn een speciaal geval in C: statische arrays kunnen bijvoorbeeld niet als returnwaarde dienen, en ook als functieargument zijn ze niet ideaal. Dynamische arrays nemen de vorm aan van een pointer en een grootte. Doordat dit twee waarden zijn, ondersteunt TESTed dat momenteel niet.\n",
    "- `set` - C heeft geen ingebouwde verzamelingen.\n",
    "- `map` - C heeft geen ingebouwde map of dict. Er zijn wel structs, maar daarvan is het niet mogelijk om at runtime de velden te achterhalen, wat ze niet bruikbaar maakt.\n",
    "\n",
    "Welke geavanceerde types gaan we niet ondersteunen?\n",
    "\n",
    "- `big_int` - C heeft geen ingebouwd type voor getallen van arbitraire grootte.\n",
    "- `fixex_precision`- C heeft geen ingebouwd type voor kommagetallen me arbitraire precisie.\n",
    "- Andere datastructuren, zoals `array` en `list` (voor de redenen van hierboven). Ook `tuple` wordt niet ondersteund, omdat het niet bestaat in C."
   ],
   "metadata": {
    "collapsed": false
   }
  },
  {
   "cell_type": "markdown",
   "source": [
    "## Configuratieklasse\n",
    "\n",
    "De eerste stap in het toevoegen van een programmeertaal is het implementeren van de configuratieklasse.\n",
    "Maak hiervoor een nieuw Python-bestand in `test/langauges/c/config.py`.\n",
    "Hierin moet een klasse komen die `Language` uitbreidt:"
   ],
   "metadata": {
    "collapsed": false,
    "pycharm": {
     "name": "#%% md\n"
    }
   }
  },
  {
   "cell_type": "code",
   "execution_count": null,
   "outputs": [],
   "source": [
    "from tested.languages import Language\n",
    "\n",
    "class CConfig(Language):\n",
    "    pass"
   ],
   "metadata": {
    "collapsed": false,
    "pycharm": {
     "name": "#%% python\n"
    }
   }
  },
  {
   "cell_type": "markdown",
   "source": [
    "De klasse `Language` heeft veel functies, waarvan een deel verplicht te implementeren is.\n",
    "Hieronder overlopen we de functies per onderwerp."
   ],
   "metadata": {
    "collapsed": false
   }
  },
  {
   "cell_type": "markdown",
   "source": [
    "### Programmeertaaleigenschappen\n",
    "\n",
    "Als eerste zijn er enkele functies die weinig uitleg behoeven, en enkele eigenschappen van C implementeren.\n"
   ],
   "metadata": {
    "collapsed": false
   }
  },
  {
   "cell_type": "code",
   "execution_count": null,
   "outputs": [],
   "source": [
    "def file_extension(self) -> str:\n",
    "        return \"c\""
   ],
   "metadata": {
    "collapsed": false,
    "pycharm": {
     "name": "#%% python\n"
    }
   }
  },
  {
   "cell_type": "markdown",
   "source": [
    "De bestandsextensie voor bestanden in C. Er zijn in C ook headers (`.h`), maar daar moeten we geen rekening mee houden.\n"
   ],
   "metadata": {
    "collapsed": false
   }
  },
  {
   "cell_type": "code",
   "execution_count": null,
   "outputs": [],
   "source": [
    "def submission_name(self, plan: Plan) -> str:\n",
    "    return \"submission\""
   ],
   "metadata": {
    "collapsed": false,
    "pycharm": {
     "name": "#%% python\n"
    }
   }
  },
  {
   "cell_type": "markdown",
   "source": [
    "De naam van het bestand met de oplossing van de student."
   ],
   "metadata": {
    "collapsed": false
   }
  },
  {
   "cell_type": "code",
   "source": [
    "def selector_name(self) -> str:\n",
    "    return \"selector\"\n",
    "\n",
    "def needs_selector(self):\n",
    "    return True"
   ],
   "metadata": {
    "collapsed": false,
    "pycharm": {
     "name": "#%% python\n"
    }
   },
   "execution_count": null,
   "outputs": []
  },
  {
   "cell_type": "markdown",
   "source": [
    "De naam van de selector voor batchcompilatie en of dat een selector nodig is (in programmeertalen zoals Python is dat niet nodig)."
   ],
   "metadata": {
    "collapsed": false
   }
  },
  {
   "cell_type": "code",
   "source": [
    "def context_name(self, tab_number: int, context_number: int) -> str:\n",
    "    return f\"context_{tab_number}_{context_number}\""
   ],
   "metadata": {
    "collapsed": false,
    "pycharm": {
     "name": "#%% python\n"
    }
   },
   "execution_count": null,
   "outputs": []
  },
  {
   "cell_type": "markdown",
   "source": [
    "De naam van een bestand voor de context van een specifiek tabblad."
   ],
   "metadata": {
    "collapsed": false
   }
  },
  {
   "cell_type": "code",
   "source": [
    "def conventionalise_function(self, function_name: str) -> str:\n",
    "    return decamelize(function_name)"
   ],
   "metadata": {
    "collapsed": false,
    "pycharm": {
     "name": "#%% python\n"
    }
   },
   "execution_count": null,
   "outputs": []
  },
  {
   "cell_type": "markdown",
   "source": [
    "Deze functie zet namen uit het testplan om naar de namen volgens de gebruiken van de taal. In C kiezen we ervoor om functies in `snake_case` te zetten.\n",
    "\n",
    "### Compileren en uitvoeren van code\n",
    "\n",
    "De eerste twee functies die we gaan bekijken zorgen ervoor dat de code die TESTed gegenereerd heeft, gecompileerd en uitgevoerd kan worden.\n",
    "\n",
    "Als eerste bekijken we het compileren:"
   ],
   "metadata": {
    "collapsed": false
   }
  },
  {
   "cell_type": "code",
   "execution_count": null,
   "outputs": [],
   "source": [
    "def generation_callback(self, files: List[str]) -> CallbackResult:\n",
    "        main_file = files[-1]\n",
    "        exec_file = Path(main_file).stem\n",
    "        result = executable_name(exec_file)\n",
    "        return [\"gcc\", \"-std=c11\", \"-Wall\", main_file, \"-o\", result], [result]"
   ],
   "metadata": {
    "collapsed": false,
    "pycharm": {
     "name": "#%% python\n"
    }
   }
  },
  {
   "cell_type": "markdown",
   "source": [
    "Zoals de naam doet vermoeden wordt deze functie opgeroepen nadat TESTed de code heeft gegenereerd.\n",
    "Als argument wordt een lijst van bestanden meegegeven die gecompileerd moeten worden tot één uitvoerbaar geheel.\n",
    "Per conventie is het laatste bestand in de lijst het bestand met de `main`-functie.\n",
    "\n",
    "Het eerste dat we doen is het bepalen van de naam van de executable.\n",
    "De functie `executable_name` is een hulpfunctie die de juiste extensie aan een string plakt, afhankelijk van het platform (niets op Linux, `exe` op Windows).\n",
    "\n",
    "Als returnwaarde verwacht deze functie een tuple met twee elementen:\n",
    "\n",
    "- Het uit te voeren commando voor de compilatie. In dit geval gebruiken we GCC. Als opties geven we `std=c11` en `Wall` mee. Dit is uiteraard te kiezen per programmeertaal.\n",
    "- Een lijst van resulterende bestanden. Bij C is er maar één bestand: de executable.\n",
    "\n",
    "Een concreet voorbeeld maakt dit duidelijker. Stel dat we een oefening met één context compileren in batchcompilatie:"
   ],
   "metadata": {
    "collapsed": false
   }
  },
  {
   "cell_type": "code",
   "execution_count": null,
   "outputs": [],
   "source": [
    ">>> generation_callback([\"submission.c\", \"context0.c\", \"selector.c\"])\n",
    "([\"gcc\", \"-std=c11\", \"-Wall\", \"selector.c\", \"-o\", \"selector.exe\"], [\"selector.exe\"])"
   ],
   "metadata": {
    "collapsed": false,
    "pycharm": {
     "name": "#%% python\n"
    }
   }
  },
  {
   "cell_type": "markdown",
   "source": [
    "Nu de code gecompileerd is, moeten we hem nog steeds kunnen uitvoeren. Dit gebeurt met een gelijkaardige functie:\n"
   ],
   "metadata": {
    "collapsed": false
   }
  },
  {
   "cell_type": "code",
   "execution_count": null,
   "outputs": [],
   "source": [
    "def execution_command(self,\n",
    "                      cwd: Path,\n",
    "                      file: str,\n",
    "                      arguments: List[str]) -> List[str]:\n",
    "    local_file = cwd / executable_name(Path(file).stem)\n",
    "    return [str(local_file.absolute()), *arguments]"
   ],
   "metadata": {
    "collapsed": false,
    "pycharm": {
     "name": "#%%\n"
    }
   }
  },
  {
   "cell_type": "markdown",
   "source": [
    "Deze functie heeft meer argumenten:\n",
    "\n",
    "- `cwd` of _current working directory_, de map waar de uitvoering zal plaatsvinden.\n",
    "- `file`, het bestand dat uitgevoerd moet worden (het bestand met de `main`-functie). In het geval van C zal dat altijd de executable zijn.\n",
    "- `arguments`, argumenten die aan het programma meegegeven moeten worden.\n",
    "\n",
    "Aangezien C compileert tot een uitvoerbaar bestand, kunnen we dat bestand hier direct oproepen. Het enige dat we doen is opnieuw de juiste extensie toevoegen en een absoluut pad gebruiken. Dat laatst omdat het commando door TESTed met `subprocess` uitgevoerd wordt, en dus het pad naar het uitvoerbaar bestand nodig heeft.\n",
    "\n",
    "De returnwaarde is hier het uit te voeren commando.\n",
    "\n",
    "### Aanpassen van de oplossingscode\n",
    "\n",
    "In TESTed kunnen er meerdere `main`-functies zijn:\n",
    "\n",
    "- De oplossing van de student kan een `main`-functie hebben.\n",
    "- Zowel de contexten als de selector kunnen `main`-functies hebben.\n",
    "\n",
    "C staat slechts één `main`-functie toe.\n",
    "\n",
    "Een ander probleem is dat de selector elke context include (zoals we later zullen zien bij de sjablonen), en elke context ook de oplossing include.\n",
    "\n",
    "Om deze redenen moeten we de code van de oplossing een beetje aanpassen:\n",
    "\n",
    "- We voegen aan `guard` toe, zodat de oplossing eenmalig geladen wordt.\n",
    "- We hernoemen de `main`-functie naar `solution_main` indien die bestaat."
   ],
   "metadata": {
    "collapsed": false,
    "pycharm": {
     "name": "#%% md\n"
    }
   }
  },
  {
   "cell_type": "code",
   "execution_count": null,
   "outputs": [],
   "source": [
    "def solution_callback(self, solution: Path, plan: Plan):\n",
    "    with open(solution, \"r\") as file:\n",
    "        contents = file.read()\n",
    "    with open(solution, \"w\") as file:\n",
    "        header = \"#ifdef INCLUDED\\n#pragma once\\n#endif\\n\\n\"\n",
    "        result = header + contents.replace(\"main\", \"solution_main\")\n",
    "        file.write(result)"
   ],
   "metadata": {
    "collapsed": false,
    "pycharm": {
     "name": "#%% python\n"
    }
   }
  },
  {
   "cell_type": "markdown",
   "source": [
    "### Ondersteunde functionaliteit\n",
    "\n",
    "Bij de voorbereiding hebben we besproken welke functionaliteit we willen ondersteunen. Hier implementeren we dat:"
   ],
   "metadata": {
    "collapsed": false,
    "pycharm": {
     "name": "#%% md\n"
    }
   }
  },
  {
   "cell_type": "code",
   "execution_count": null,
   "outputs": [],
   "source": [
    "\n",
    "def type_support_map(self) -> Mapping[AllTypes, TypeSupport]:\n",
    "    return fallback(super().type_support_map(), {\n",
    "        ant.INT_8:            TypeSupport.SUPPORTED,\n",
    "        ant.U_INT_8:          TypeSupport.SUPPORTED,\n",
    "        ant.INT_16:           TypeSupport.SUPPORTED,\n",
    "        ant.U_INT_16:         TypeSupport.SUPPORTED,\n",
    "        ant.INT_32:           TypeSupport.SUPPORTED,\n",
    "        ant.U_INT_32:         TypeSupport.SUPPORTED,\n",
    "        ant.INT_64:           TypeSupport.SUPPORTED,\n",
    "        ant.U_INT_64:         TypeSupport.SUPPORTED,\n",
    "        ant.SINGLE_PRECISION: TypeSupport.SUPPORTED,\n",
    "        ant.DOUBLE_EXTENDED:  TypeSupport.SUPPORTED,\n",
    "        ant.FIXED_PRECISION:  TypeSupport.UNSUPPORTED,\n",
    "        ast.ARRAY:            TypeSupport.SUPPORTED,\n",
    "        ast.LIST:             TypeSupport.UNSUPPORTED,\n",
    "        ast.TUPLE:            TypeSupport.UNSUPPORTED,\n",
    "        bst.SET:              TypeSupport.UNSUPPORTED,\n",
    "        bot.MAP:              TypeSupport.UNSUPPORTED,\n",
    "    })\n",
    "\n",
    "def supported_constructs(self) -> Constructs:\n",
    "    return (Constructs.MAIN | Constructs.NOTHING | Constructs.FUNCTION_CALL\n",
    "            | Constructs.ASSIGNMENT)"
   ],
   "metadata": {
    "collapsed": false,
    "pycharm": {
     "name": "#%% python\n"
    }
   }
  },
  {
   "cell_type": "markdown",
   "source": [
    "Eerst sommen we de ondersteunde en niet-ondersteunde types op. In de tweede functie geven we aan welke _constructs_ we ondersteunen."
   ],
   "metadata": {
    "collapsed": false
   }
  },
  {
   "cell_type": "markdown",
   "source": [
    "## Sjablonen\n",
    "\n",
    "De tweede stap is het implementeren van de sjablonen.\n"
   ],
   "metadata": {
    "collapsed": false
   }
  }
 ],
 "metadata": {
  "kernelspec": {
   "display_name": "Python 3",
   "language": "python",
   "name": "python3"
  },
  "language_info": {
   "codemirror_mode": {
    "name": "ipython",
    "version": 2
   },
   "file_extension": ".py",
   "mimetype": "text/x-python",
   "name": "python",
   "nbconvert_exporter": "python",
   "pygments_lexer": "ipython2",
   "version": "2.7.6"
  }
 },
 "nbformat": 4,
 "nbformat_minor": 0
}